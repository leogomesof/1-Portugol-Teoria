{
  "nbformat": 4,
  "nbformat_minor": 0,
  "metadata": {
    "colab": {
      "provenance": [],
      "collapsed_sections": [],
      "include_colab_link": true
    },
    "kernelspec": {
      "name": "python3",
      "display_name": "Python 3"
    },
    "language_info": {
      "name": "python"
    }
  },
  "cells": [
    {
      "cell_type": "markdown",
      "metadata": {
        "id": "view-in-github",
        "colab_type": "text"
      },
      "source": [
        "<a href=\"https://colab.research.google.com/github/leogomesof/1-Portugol-Teoria/blob/Teorias/Leonardo_Gomes.ipynb\" target=\"_parent\"><img src=\"https://colab.research.google.com/assets/colab-badge.svg\" alt=\"Open In Colab\"/></a>"
      ]
    },
    {
      "cell_type": "markdown",
      "source": [
        "[texto do link](https://)"
      ],
      "metadata": {
        "id": "0WKiT7brWWhe"
      }
    },
    {
      "cell_type": "markdown",
      "source": [],
      "metadata": {
        "id": "XH-DWVGfWYVs"
      }
    },
    {
      "cell_type": "markdown",
      "source": [
        "\n",
        "\n"
      ],
      "metadata": {
        "id": "mP5DftN9WRDD"
      }
    },
    {
      "cell_type": "code",
      "source": [
        "a=0 #número de votos em branco\n",
        "branco=0 #número do branco\n",
        "b=0 #número de votos do samuca\n",
        "samuca=1 #número do samuca\n",
        "c=0 #número de votos do neto\n",
        "neto=2 #número do neto\n",
        "d=0 #numero de votos do baltazar\n",
        "baltazar=3 #número do baltazar\n",
        "e=0 #número de votos nulos\n",
        "nulo=4 #número do nulo\n",
        "f=0 #travar o while para sempre esperar uma ação do usuário\n",
        "eleitor=0 #número de eleitores\n",
        "\n",
        "def zero():\n",
        " print(\"\\nO número do candidato vencedor: Nenhum\")\n",
        " print(\"O número de votos em branco: 0 votos\")\n",
        " print(\"O número de votos nulos: 0 votos\")\n",
        " print(\"O número de eleitores: 0 eleitores\")\n",
        "\n",
        "def resultados():\n",
        " print(\"O Número de votos em branco: {}\".format(a))\n",
        " print(\"O Número de votos em nulo: {}\".format(e))\n",
        " print(\"O Número de eleitores: {}\".format(eleitor))\n",
        "\n",
        "print(\"*** Votação para prefeitura municipal de volta redonda ***\\n\\nDigite 0 para: Branco\\nDigite 1 para: Samuca\")\n",
        "print(\"Digite 2 para:Neto\\nDigite 3 para: Baltazar\\nValores maior do que 4 serão anulados\")\n",
        "print(\"Para visualizar o resultado digite -1 à qualquer momento\\n\")\n",
        "while f==0:\n",
        " opcao=int(input(\"Escolha uma opção: \"))\n",
        " if opcao==0:\n",
        "  a=a+1\n",
        "  eleitor=eleitor+1\n",
        " if opcao==1:\n",
        "  b=b+1\n",
        "  eleitor=eleitor+1\n",
        " if opcao==2:\n",
        "  c=c+1\n",
        "  eleitor=eleitor+1\n",
        " if opcao==3:\n",
        "  d=d+1\n",
        "  eleitor=eleitor+1\n",
        " if opcao>=4:\n",
        "  e=e+1\n",
        "  eleitor=eleitor+1\n",
        " if opcao==-1:\n",
        "  if a>b and a>c and a>d and a>e:\n",
        "   print(\"\\nO Número do candidato vencedor: {}\".format(branco))\n",
        "   resultados()\n",
        "  elif b>a and b>c and b>d and b>e:\n",
        "   print(\"\\nO Número do candidato vencedor: {}\".format(samuca))\n",
        "   resultados()\n",
        "  elif c>a and c>b and c>d and c>e:\n",
        "   print(\"\\nO Número do candidato vencedor: {}\".format(neto))\n",
        "   resultados()\n",
        "  elif d>a and d>b and d>c and d>e:\n",
        "   print(\"\\nO Número do candidato vencedor: {}\".format(baltazar))\n",
        "   resultados()\n",
        "  elif e>a and e>b and e>c and e>d:\n",
        "   print(\"\\nO Número do candidato vencedor: {}\".format(nulo))\n",
        "   resultados()\n",
        "  else:\n",
        "   zero()\n",
        "  break"
      ],
      "metadata": {
        "colab": {
          "base_uri": "https://localhost:8080/"
        },
        "id": "yfXzEzThettR",
        "outputId": "ef6f2233-672d-4013-b95a-3bc74590135e"
      },
      "execution_count": null,
      "outputs": [
        {
          "output_type": "stream",
          "name": "stdout",
          "text": [
            "*** Votação para prefeitura municipal de volta redonda ***\n",
            "\n",
            "Digite 0 para: Branco\n",
            "Digite 1 para: Samuca\n",
            "Digite 2 para:Neto\n",
            "Digite 3 para: Baltazar\n",
            "Valores maior do que 4 serão anulados\n",
            "Para visualizar o resultado digite -1 à qualquer momento\n",
            "\n",
            "Escolha uma opção: 0\n",
            "Escolha uma opção: 0\n",
            "Escolha uma opção: 1\n",
            "Escolha uma opção: 2\n",
            "Escolha uma opção: 3\n",
            "Escolha uma opção: 4\n",
            "Escolha uma opção: -1\n",
            "\n",
            "O Número do candidato vencedor: 0\n",
            "O Número de votos em branco: 2\n",
            "O Número de votos em nulo: 1\n",
            "O Número de eleitores: 6\n"
          ]
        }
      ]
    },
    {
      "cell_type": "code",
      "source": [],
      "metadata": {
        "id": "sJkm-9FGhwEc"
      },
      "execution_count": null,
      "outputs": []
    }
  ]
}