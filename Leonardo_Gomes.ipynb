{
  "nbformat": 4,
  "nbformat_minor": 0,
  "metadata": {
    "colab": {
      "provenance": [],
      "collapsed_sections": [],
      "include_colab_link": true
    },
    "kernelspec": {
      "name": "python3",
      "display_name": "Python 3"
    },
    "language_info": {
      "name": "python"
    }
  },
  "cells": [
    {
      "cell_type": "markdown",
      "metadata": {
        "id": "view-in-github",
        "colab_type": "text"
      },
      "source": [
        "<a href=\"https://colab.research.google.com/github/leogomesof/1-Portugol-Teoria/blob/Teorias/Leonardo_Gomes.ipynb\" target=\"_parent\"><img src=\"https://colab.research.google.com/assets/colab-badge.svg\" alt=\"Open In Colab\"/></a>"
      ]
    },
    {
      "cell_type": "code",
      "execution_count": null,
      "metadata": {
        "id": "JSP8CTxtJXNW"
      },
      "outputs": [],
      "source": [
        "fat=0\n",
        "itens=0\n",
        "listagem = [] #lista principal\n",
        "while True: #Armazenar o nome do produto\n",
        " pdt=str(input(\"Coloque o nome do produto vendido ou digite sair, para sair: \"))\n",
        " if pdt.upper()==\"SAIR\":\n",
        "  break\n",
        " qtd=int(input(\"Digite a quantidade: \"))\n",
        " prc=float(input(\"Digite o preço em reais: \"))\n",
        " listagem.append((pdt, qtd, prc))\n",
        "for i in listagem:\n",
        " fat=fat+(i[1]*i[2])\n",
        " itens=itens+i[1]\n",
        "print(\"O fatoramento de todos os {} itens são R$:{:.2f}\".format(itens,fat))"
      ]
    }
  ]
}